{
 "cells": [
  {
   "cell_type": "code",
   "execution_count": 143,
   "metadata": {},
   "outputs": [],
   "source": [
    "import pandas as pd\n",
    "import numpy as np\n",
    "import markdown\n",
    "import seaborn as sns\n",
    "import plotnine\n",
    "from plotnine import *\n",
    "import matplotlib.pyplot as plt\n",
    "from scipy import stats\n",
    "import plotly.graph_objs as go\n",
    "import plotly.plotly as py"
   ]
  },
  {
   "cell_type": "code",
   "execution_count": 153,
   "metadata": {},
   "outputs": [],
   "source": [
    "url_trans = 'https://raw.githubusercontent.com/seedboxtech/datasciencetest/master/transData.csv'\n",
    "url_test= 'https://raw.githubusercontent.com/seedboxtech/datasciencetest/master/testSamples.csv'\n",
    "\n",
    "df_trans = pd.read_csv(url_trans)\n",
    "df_test = pd.read_csv(url_test)\n",
    "\n",
    "df = df_trans.merge(df_test, on ='sample_id', how='left')"
   ]
  },
  {
   "cell_type": "code",
   "execution_count": 155,
   "metadata": {},
   "outputs": [],
   "source": [
    "df_pivot_count= pd.DataFrame.pivot_table(df, values='transaction_amount', index=['sample_id', 'test_group'], columns=['transaction_type'], aggfunc=np.count_nonzero)\n",
    "df_pivot_count=df_pivot_count.fillna(0)\n",
    "\n",
    "df_pivot_amount= pd.DataFrame.pivot_table(df, values='transaction_amount', index=['sample_id', 'test_group'], columns=['transaction_type'], aggfunc=np.sum)\n",
    "df_pivot_amount=df_pivot_amount.fillna(0)\n",
    "df_pivot_amount['Total_Amount'] = df_pivot_amount['CHARGEBACK'] + df_pivot_amount['REBILL'] + df_pivot_amount['REFUND']\n",
    "#df_pivot_amount.tail(10)"
   ]
  },
  {
   "cell_type": "markdown",
   "metadata": {},
   "source": [
    "## Analysis Requirements\n",
    "\n",
    "In this analysis we would like you to answer the following questions:\n",
    "\n",
    "1. What is the aproximate probability distribution between the test group and the control group\n",
    "2. Is a user that must call-in to cancel more likely to generate at least 1 addition REBILL?\n",
    "3. Is a user that must call-in to cancel more likely to generate more revenues?\n",
    "4. Is a user that must call-in more likely to produce a higher chargeback rate(CHARGEBACKs/REBILLs)?\n",
    "\n",
    "Technical Requirements:\n",
    "\n",
    "1. Analysis must be coded in R or Python\n",
    "2. Analysis must be submitted to a github repository\n",
    "3. Analysis must be written in markdown format\n",
    "4. Please include at least 1 vizualization with your analysis\n",
    "5. Please use statistical significance tools to answer the questions we've asked\n",
    "6. Include the code you used to perform the analysis in the github repository\n",
    "7. Send us the link to your repository once you've completed the analysis"
   ]
  },
  {
   "cell_type": "code",
   "execution_count": 135,
   "metadata": {},
   "outputs": [
    {
     "data": {
      "text/html": [
       "<div>\n",
       "<style scoped>\n",
       "    .dataframe tbody tr th:only-of-type {\n",
       "        vertical-align: middle;\n",
       "    }\n",
       "\n",
       "    .dataframe tbody tr th {\n",
       "        vertical-align: top;\n",
       "    }\n",
       "\n",
       "    .dataframe thead th {\n",
       "        text-align: right;\n",
       "    }\n",
       "</style>\n",
       "<table border=\"1\" class=\"dataframe\">\n",
       "  <thead>\n",
       "    <tr style=\"text-align: right;\">\n",
       "      <th></th>\n",
       "      <th>transaction_id</th>\n",
       "      <th>sample_id</th>\n",
       "      <th>transaction_type</th>\n",
       "      <th>transaction_amount</th>\n",
       "      <th>test_group</th>\n",
       "    </tr>\n",
       "  </thead>\n",
       "  <tbody>\n",
       "    <tr>\n",
       "      <th>count</th>\n",
       "      <td>7.430000e+03</td>\n",
       "      <td>7430.000000</td>\n",
       "      <td>7430</td>\n",
       "      <td>7430.000000</td>\n",
       "      <td>7430</td>\n",
       "    </tr>\n",
       "    <tr>\n",
       "      <th>unique</th>\n",
       "      <td>NaN</td>\n",
       "      <td>NaN</td>\n",
       "      <td>3</td>\n",
       "      <td>NaN</td>\n",
       "      <td>2</td>\n",
       "    </tr>\n",
       "    <tr>\n",
       "      <th>top</th>\n",
       "      <td>NaN</td>\n",
       "      <td>NaN</td>\n",
       "      <td>REBILL</td>\n",
       "      <td>NaN</td>\n",
       "      <td>0</td>\n",
       "    </tr>\n",
       "    <tr>\n",
       "      <th>freq</th>\n",
       "      <td>NaN</td>\n",
       "      <td>NaN</td>\n",
       "      <td>6961</td>\n",
       "      <td>NaN</td>\n",
       "      <td>4050</td>\n",
       "    </tr>\n",
       "    <tr>\n",
       "      <th>mean</th>\n",
       "      <td>5.235004e+07</td>\n",
       "      <td>30245.874024</td>\n",
       "      <td>NaN</td>\n",
       "      <td>24.935720</td>\n",
       "      <td>NaN</td>\n",
       "    </tr>\n",
       "    <tr>\n",
       "      <th>std</th>\n",
       "      <td>2.145001e+03</td>\n",
       "      <td>17064.733330</td>\n",
       "      <td>NaN</td>\n",
       "      <td>15.050653</td>\n",
       "      <td>NaN</td>\n",
       "    </tr>\n",
       "    <tr>\n",
       "      <th>min</th>\n",
       "      <td>5.234633e+07</td>\n",
       "      <td>11.000000</td>\n",
       "      <td>NaN</td>\n",
       "      <td>-39.950000</td>\n",
       "      <td>NaN</td>\n",
       "    </tr>\n",
       "    <tr>\n",
       "      <th>25%</th>\n",
       "      <td>5.234818e+07</td>\n",
       "      <td>15866.250000</td>\n",
       "      <td>NaN</td>\n",
       "      <td>24.950000</td>\n",
       "      <td>NaN</td>\n",
       "    </tr>\n",
       "    <tr>\n",
       "      <th>50%</th>\n",
       "      <td>5.235004e+07</td>\n",
       "      <td>30557.000000</td>\n",
       "      <td>NaN</td>\n",
       "      <td>24.950000</td>\n",
       "      <td>NaN</td>\n",
       "    </tr>\n",
       "    <tr>\n",
       "      <th>75%</th>\n",
       "      <td>5.235190e+07</td>\n",
       "      <td>44945.000000</td>\n",
       "      <td>NaN</td>\n",
       "      <td>32.950000</td>\n",
       "      <td>NaN</td>\n",
       "    </tr>\n",
       "    <tr>\n",
       "      <th>max</th>\n",
       "      <td>5.235376e+07</td>\n",
       "      <td>59694.000000</td>\n",
       "      <td>NaN</td>\n",
       "      <td>39.950000</td>\n",
       "      <td>NaN</td>\n",
       "    </tr>\n",
       "  </tbody>\n",
       "</table>\n",
       "</div>"
      ],
      "text/plain": [
       "        transaction_id     sample_id transaction_type  transaction_amount  \\\n",
       "count     7.430000e+03   7430.000000             7430         7430.000000   \n",
       "unique             NaN           NaN                3                 NaN   \n",
       "top                NaN           NaN           REBILL                 NaN   \n",
       "freq               NaN           NaN             6961                 NaN   \n",
       "mean      5.235004e+07  30245.874024              NaN           24.935720   \n",
       "std       2.145001e+03  17064.733330              NaN           15.050653   \n",
       "min       5.234633e+07     11.000000              NaN          -39.950000   \n",
       "25%       5.234818e+07  15866.250000              NaN           24.950000   \n",
       "50%       5.235004e+07  30557.000000              NaN           24.950000   \n",
       "75%       5.235190e+07  44945.000000              NaN           32.950000   \n",
       "max       5.235376e+07  59694.000000              NaN           39.950000   \n",
       "\n",
       "       test_group  \n",
       "count        7430  \n",
       "unique          2  \n",
       "top             0  \n",
       "freq         4050  \n",
       "mean          NaN  \n",
       "std           NaN  \n",
       "min           NaN  \n",
       "25%           NaN  \n",
       "50%           NaN  \n",
       "75%           NaN  \n",
       "max           NaN  "
      ]
     },
     "execution_count": 135,
     "metadata": {},
     "output_type": "execute_result"
    }
   ],
   "source": [
    "df.describe(include='all')"
   ]
  },
  {
   "cell_type": "code",
   "execution_count": 96,
   "metadata": {},
   "outputs": [],
   "source": [
    "#Total Revenue by test group\n",
    "Revenue_by_group = df.groupby(['test_group']).transaction_amount.sum()\n",
    "#print(Revenue_by_group)\n",
    "\n",
    "#Total number of transactions by test group\n",
    "Number_transactions = df.groupby(['test_group']).transaction_id.count()\n",
    "#print(Number_transactions)\n",
    "\n",
    "#Number of call by test group\n",
    "Call_number_by_group = df.groupby(['test_group']).sample_id.nunique()\n",
    "#print(Call_number_by_group)\n",
    "\n",
    "#Average transaction amount by test group\n",
    "Avg_trans_amount_by_test_group = df.groupby(['test_group']).transaction_amount.mean()\n",
    "#print(Avg_trans_amount_by_test_group)"
   ]
  },
  {
   "cell_type": "markdown",
   "metadata": {},
   "source": [
    "## 1. What is the approximate probability distribution between the test group and the control group"
   ]
  },
  {
   "cell_type": "markdown",
   "metadata": {},
   "source": [
    "Here is below the approximate probability distribution between the test group (1) and the control group (0)."
   ]
  },
  {
   "cell_type": "code",
   "execution_count": 159,
   "metadata": {},
   "outputs": [
    {
     "data": {
      "text/plain": [
       "<seaborn.axisgrid.FacetGrid at 0x20fbee12240>"
      ]
     },
     "execution_count": 159,
     "metadata": {},
     "output_type": "execute_result"
    },
    {
     "data": {
      "image/png": "[encoded data removed]",
      "text/plain": [
       "<Figure size 776.8x720 with 1 Axes>"
      ]
     },
     "metadata": {},
     "output_type": "display_data"
    }
   ],
   "source": [
    "\n",
    "(sns\n",
    "  .FacetGrid(df,\n",
    "             height = 10,\n",
    "             hue = \"test_group\")\n",
    "  .map(sns.kdeplot, 'transaction_amount', shade=True)\n",
    " .add_legend()\n",
    ")"
   ]
  },
  {
   "cell_type": "markdown",
   "metadata": {},
   "source": [
    "## 2. Is a user that must call-in to cancel more likely to generate at least 1 addition REBILL?"
   ]
  },
  {
   "cell_type": "markdown",
   "metadata": {},
   "source": [
    "#### Test_group column: 0= control group, 1=test group\n",
    "* Control group can cancel using a web form\n",
    "* Test group can only cancel by calling in"
   ]
  },
  {
   "cell_type": "code",
   "execution_count": 156,
   "metadata": {},
   "outputs": [
    {
     "name": "stdout",
     "output_type": "stream",
     "text": [
      "test_group\n",
      "0    138\n",
      "1     79\n",
      "Name: REBILL, dtype: int64\n",
      "test_group\n",
      "0     941\n",
      "1    1556\n",
      "Name: REBILL, dtype: int64\n"
     ]
    }
   ],
   "source": [
    "Call_number_by_group_no_rebill = df_pivot_count[df_pivot_count.REBILL < 0.1].groupby(['test_group']).count()[\"REBILL\"]\n",
    "print(Call_number_by_group_no_rebill)\n",
    "\n",
    "Call_number_by_group_1_rebill = df_pivot_count[df_pivot_count.REBILL > 0.1].groupby(['test_group']).count()[\"REBILL\"]\n",
    "print(Call_number_by_group_1_rebill)"
   ]
  },
  {
   "cell_type": "code",
   "execution_count": 157,
   "metadata": {},
   "outputs": [
    {
     "data": {
      "text/plain": [
       "Text(0.5,1,'REBILL > 1 by Test group')"
      ]
     },
     "execution_count": 157,
     "metadata": {},
     "output_type": "execute_result"
    },
    {
     "data": {
      "image/png": "[encoded data removed]",
      "text/plain": [
       "<Figure size 432x288 with 1 Axes>"
      ]
     },
     "metadata": {},
     "output_type": "display_data"
    }
   ],
   "source": [
    "round(Call_number_by_group_1_rebill / (Call_number_by_group_1_rebill + Call_number_by_group_no_rebill),2).plot(kind='bar', stacked=False).set_title('REBILL > 1 by Test group')"
   ]
  },
  {
   "cell_type": "markdown",
   "metadata": {},
   "source": [
    "Yes, a user that call-in to cancel is more likely to generate at least 1 addition REBILL. If we look at the percentage above, 95% of call-in users generate 1 REBILL or more against 87% for Web form users."
   ]
  },
  {
   "cell_type": "markdown",
   "metadata": {},
   "source": [
    "## 3. Is a user that must call-in to cancel more likely to generate more revenues?"
   ]
  },
  {
   "cell_type": "markdown",
   "metadata": {},
   "source": [
    "No, if we look a the numbers below, we can see that a user that must call-in to cancel is generating 58.37 in average by call versus 83.26 for a user who can go through a website form."
   ]
  },
  {
   "cell_type": "code",
   "execution_count": 158,
   "metadata": {
    "code_folding": []
   },
   "outputs": [
    {
     "name": "stdout",
     "output_type": "stream",
     "text": [
      "test_group\n",
      "0    83.26\n",
      "1    58.37\n",
      "dtype: float64\n"
     ]
    }
   ],
   "source": [
    "#Average Revenue by call by test group\n",
    "Revenue_Call_by_group = round(Revenue_by_group/Call_number_by_group,2)\n",
    "print(Revenue_Call_by_group)"
   ]
  },
  {
   "cell_type": "markdown",
   "metadata": {},
   "source": [
    "## 4. Is a user that must call-in more likely to produce a higher chargeback rate(CHARGEBACKs/REBILLs)?"
   ]
  },
  {
   "cell_type": "markdown",
   "metadata": {},
   "source": [
    "First chargeback rate can have two interpretations:\n",
    "1. by number of transation\n",
    "2. by total amount"
   ]
  },
  {
   "cell_type": "markdown",
   "metadata": {},
   "source": [
    "### 1. by number of transation "
   ]
  },
  {
   "cell_type": "code",
   "execution_count": 42,
   "metadata": {},
   "outputs": [
    {
     "name": "stdout",
     "output_type": "stream",
     "text": [
      "test_group  transaction_type\n",
      "0           CHARGEBACK           106\n",
      "            REBILL              3756\n",
      "            REFUND               188\n",
      "1           CHARGEBACK            57\n",
      "            REBILL              3205\n",
      "            REFUND               118\n",
      "Name: transaction_id, dtype: int64\n"
     ]
    }
   ],
   "source": [
    "#Total number of transactions by test group\n",
    "Number_transactions_bygroup_bytranstype = df.groupby(['test_group', 'transaction_type']).transaction_id.count()\n",
    "print(Number_transactions_bygroup_bytranstype)"
   ]
  },
  {
   "cell_type": "code",
   "execution_count": 39,
   "metadata": {},
   "outputs": [
    {
     "name": "stdout",
     "output_type": "stream",
     "text": [
      "Webform group Chargeback Rate is equal to 0.028\n",
      "Call-in group Chargeback Rate is equal to 0.018\n"
     ]
    }
   ],
   "source": [
    "print('Webform group Chargeback Rate is equal to', round(Number_transactions_bygroup_bytranstype[0][0]/Number_transactions_bygroup_bytranstype[0][1],3))\n",
    "print('Call-in group Chargeback Rate is equal to', round(Number_transactions_bygroup_bytranstype[1][0]/Number_transactions_bygroup_bytranstype[1][1],3))"
   ]
  },
  {
   "cell_type": "markdown",
   "metadata": {},
   "source": [
    "So, Webform group Chargeback Rate is higher than Call-in group Chargeback Rate in term of transaction, let's see what's the result by amount."
   ]
  },
  {
   "cell_type": "markdown",
   "metadata": {},
   "source": [
    "## 2. by amount"
   ]
  },
  {
   "cell_type": "code",
   "execution_count": 29,
   "metadata": {},
   "outputs": [
    {
     "name": "stdout",
     "output_type": "stream",
     "text": [
      "test_group  transaction_type\n",
      "0           CHARGEBACK           -2678.70\n",
      "            REBILL               97359.20\n",
      "            REFUND               -4841.60\n",
      "1           CHARGEBACK           -1902.15\n",
      "            REBILL              100869.75\n",
      "            REFUND               -3534.10\n",
      "Name: transaction_amount, dtype: float64\n"
     ]
    }
   ],
   "source": [
    "#Total amount by test group\n",
    "Amount_bygroup_bytranstype = df.groupby(['test_group', 'transaction_type']).transaction_amount.sum()\n",
    "print(Amount_bygroup_bytranstype)"
   ]
  },
  {
   "cell_type": "code",
   "execution_count": 38,
   "metadata": {},
   "outputs": [
    {
     "name": "stdout",
     "output_type": "stream",
     "text": [
      "Webform group Chargeback Rate is equal to 0.028\n",
      "Call-in group Chargeback Rate is equal to 0.019\n"
     ]
    }
   ],
   "source": [
    "print('Webform group Chargeback Rate is equal to', round(abs(Amount_bygroup_bytranstype[0][0]/Amount_bygroup_bytranstype[0][1]), 3))\n",
    "print('Call-in group Chargeback Rate is equal to', round(abs(Amount_bygroup_bytranstype[1][0]/Amount_bygroup_bytranstype[1][1]), 3))"
   ]
  },
  {
   "cell_type": "markdown",
   "metadata": {},
   "source": [
    "So, whatever the type of calculation, the Webform group Chargeback Rate is higher than Call-in group Chargeback Rate."
   ]
  }
 ],
 "metadata": {
  "kernelspec": {
   "display_name": "Python 3",
   "language": "python",
   "name": "python3"
  },
  "language_info": {
   "codemirror_mode": {
    "name": "ipython",
    "version": 3
   },
   "file_extension": ".py",
   "mimetype": "text/x-python",
   "name": "python",
   "nbconvert_exporter": "python",
   "pygments_lexer": "ipython3",
   "version": "3.6.5"
  }
 },
 "nbformat": 4,
 "nbformat_minor": 2
}
